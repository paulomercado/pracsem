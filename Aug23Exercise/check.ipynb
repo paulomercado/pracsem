{
 "cells": [
  {
   "cell_type": "code",
   "execution_count": 1,
   "metadata": {},
   "outputs": [],
   "source": [
    "import pandas as pd\n"
   ]
  },
  {
   "cell_type": "code",
   "execution_count": 4,
   "metadata": {},
   "outputs": [],
   "source": [
    "df = pd.read_csv(\"20150102.prices.csv.gz\")"
   ]
  },
  {
   "cell_type": "code",
   "execution_count": 5,
   "metadata": {},
   "outputs": [
    {
     "data": {
      "text/html": [
       "<div>\n",
       "<style scoped>\n",
       "    .dataframe tbody tr th:only-of-type {\n",
       "        vertical-align: middle;\n",
       "    }\n",
       "\n",
       "    .dataframe tbody tr th {\n",
       "        vertical-align: top;\n",
       "    }\n",
       "\n",
       "    .dataframe thead th {\n",
       "        text-align: right;\n",
       "    }\n",
       "</style>\n",
       "<table border=\"1\" class=\"dataframe\">\n",
       "  <thead>\n",
       "    <tr style=\"text-align: right;\">\n",
       "      <th></th>\n",
       "      <th>date</th>\n",
       "      <th>ticker</th>\n",
       "      <th>open</th>\n",
       "      <th>high</th>\n",
       "      <th>low</th>\n",
       "      <th>close</th>\n",
       "      <th>volume</th>\n",
       "      <th>dividends</th>\n",
       "      <th>stock_splits</th>\n",
       "      <th>industry</th>\n",
       "      <th>previous_close</th>\n",
       "      <th>simple_return</th>\n",
       "      <th>log_return</th>\n",
       "      <th>volatility_P21</th>\n",
       "      <th>volatility_P60</th>\n",
       "      <th>overnight_log_ret</th>\n",
       "      <th>today_log_ret</th>\n",
       "      <th>overnight_volatility_P21</th>\n",
       "      <th>today_volatility_P21</th>\n",
       "    </tr>\n",
       "  </thead>\n",
       "  <tbody>\n",
       "    <tr>\n",
       "      <th>0</th>\n",
       "      <td>2015-01-02</td>\n",
       "      <td>ADBE</td>\n",
       "      <td>72.699997</td>\n",
       "      <td>73.199997</td>\n",
       "      <td>71.889999</td>\n",
       "      <td>72.339996</td>\n",
       "      <td>2349200.0</td>\n",
       "      <td>0.0</td>\n",
       "      <td>0.0</td>\n",
       "      <td>technology</td>\n",
       "      <td>72.699997</td>\n",
       "      <td>-0.004952</td>\n",
       "      <td>-0.004964</td>\n",
       "      <td>0.023364</td>\n",
       "      <td>0.018712</td>\n",
       "      <td>0.0</td>\n",
       "      <td>-0.004964</td>\n",
       "      <td>0.014371</td>\n",
       "      <td>0.012426</td>\n",
       "    </tr>\n",
       "  </tbody>\n",
       "</table>\n",
       "</div>"
      ],
      "text/plain": [
       "         date ticker       open       high        low      close     volume  \\\n",
       "0  2015-01-02   ADBE  72.699997  73.199997  71.889999  72.339996  2349200.0   \n",
       "\n",
       "   dividends  stock_splits    industry  previous_close  simple_return  \\\n",
       "0        0.0           0.0  technology       72.699997      -0.004952   \n",
       "\n",
       "   log_return  volatility_P21  volatility_P60  overnight_log_ret  \\\n",
       "0   -0.004964        0.023364        0.018712                0.0   \n",
       "\n",
       "   today_log_ret  overnight_volatility_P21  today_volatility_P21  \n",
       "0      -0.004964                  0.014371              0.012426  "
      ]
     },
     "execution_count": 5,
     "metadata": {},
     "output_type": "execute_result"
    }
   ],
   "source": [
    "df"
   ]
  }
 ],
 "metadata": {
  "kernelspec": {
   "display_name": "base",
   "language": "python",
   "name": "python3"
  },
  "language_info": {
   "codemirror_mode": {
    "name": "ipython",
    "version": 3
   },
   "file_extension": ".py",
   "mimetype": "text/x-python",
   "name": "python",
   "nbconvert_exporter": "python",
   "pygments_lexer": "ipython3",
   "version": "3.12.7"
  }
 },
 "nbformat": 4,
 "nbformat_minor": 2
}
